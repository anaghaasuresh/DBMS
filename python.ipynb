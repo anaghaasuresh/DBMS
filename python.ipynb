{
  "nbformat": 4,
  "nbformat_minor": 0,
  "metadata": {
    "colab": {
      "provenance": [],
      "authorship_tag": "ABX9TyMSSGU/dTK5B8PdLku8p7C8",
      "include_colab_link": true
    },
    "kernelspec": {
      "name": "python3",
      "display_name": "Python 3"
    },
    "language_info": {
      "name": "python"
    }
  },
  "cells": [
    {
      "cell_type": "markdown",
      "metadata": {
        "id": "view-in-github",
        "colab_type": "text"
      },
      "source": [
        "<a href=\"https://colab.research.google.com/github/anaghaasuresh/DBMS/blob/main/python.ipynb\" target=\"_parent\"><img src=\"https://colab.research.google.com/assets/colab-badge.svg\" alt=\"Open In Colab\"/></a>"
      ]
    },
    {
      "cell_type": "code",
      "execution_count": 30,
      "metadata": {
        "id": "ZR95qCH_GCWp"
      },
      "outputs": [],
      "source": [
        "if 'print' in globals() and not callable(print):\n",
        "  del print"
      ]
    },
    {
      "cell_type": "code",
      "source": [
        "name = input(\"enter your name:\")\n",
        "age = (input(\"enter your age:\"))\n",
        "print(\"hello\", name , age)"
      ],
      "metadata": {
        "colab": {
          "base_uri": "https://localhost:8080/"
        },
        "id": "ggyTq-BdGEJw",
        "outputId": "ea8c35f9-11d3-4b90-9003-0b7b1f01ffd7"
      },
      "execution_count": 31,
      "outputs": [
        {
          "output_type": "stream",
          "name": "stdout",
          "text": [
            "enter your name:name\n",
            "enter your age:12\n",
            "hello name 12\n"
          ]
        }
      ]
    },
    {
      "cell_type": "code",
      "source": [
        "x,y=1,2\n",
        "print(\"x=\",x,\"y=\",y)\n",
        "x,y=y,x\n",
        "print(\"x=\",x,\"y=\",y)"
      ],
      "metadata": {
        "colab": {
          "base_uri": "https://localhost:8080/"
        },
        "id": "M9QXAYINLq8i",
        "outputId": "08542850-9106-4b1a-b73a-c79d2c7080e3"
      },
      "execution_count": 33,
      "outputs": [
        {
          "output_type": "stream",
          "name": "stdout",
          "text": [
            "x= 1 y= 2\n",
            "x= 2 y= 1\n"
          ]
        }
      ]
    },
    {
      "cell_type": "code",
      "source": [
        "c=input(\"Enter a value\")\n",
        "c=float(c)\n",
        "f=(c*9/5)+32\n",
        "print(\"f=\",f)"
      ],
      "metadata": {
        "colab": {
          "base_uri": "https://localhost:8080/"
        },
        "id": "_KzlOV6RH_-P",
        "outputId": "5a31e8ee-67c5-4ddd-ff5f-33d644553f76"
      },
      "execution_count": 35,
      "outputs": [
        {
          "output_type": "stream",
          "name": "stdout",
          "text": [
            "Enter a value32.4\n",
            "f= 90.32\n"
          ]
        }
      ]
    },
    {
      "cell_type": "code",
      "source": [
        "x=21\n",
        "y=10\n",
        "print(\"x+y\",x+y)\n",
        "\n"
      ],
      "metadata": {
        "id": "Y4XMu6X2Jmkv",
        "colab": {
          "base_uri": "https://localhost:8080/"
        },
        "outputId": "f83f217e-f7d9-444a-f691-9fcf3ae11f31"
      },
      "execution_count": 36,
      "outputs": [
        {
          "output_type": "stream",
          "name": "stdout",
          "text": [
            "x+y 31\n"
          ]
        }
      ]
    },
    {
      "cell_type": "code",
      "source": [
        "a=\"123\"\n",
        "print(\"integer:\",int(a))\n"
      ],
      "metadata": {
        "colab": {
          "base_uri": "https://localhost:8080/"
        },
        "id": "iqRnWTBAOKuW",
        "outputId": "f1795ccf-45a8-40e0-9f0d-d8b1cdf3ad6a"
      },
      "execution_count": 37,
      "outputs": [
        {
          "output_type": "stream",
          "name": "stdout",
          "text": [
            "integer: 123\n"
          ]
        }
      ]
    },
    {
      "cell_type": "code",
      "source": [
        "name,age=input(\"enter your name and age:\").split()\n",
        "print(name)\n",
        "print(age)"
      ],
      "metadata": {
        "colab": {
          "base_uri": "https://localhost:8080/"
        },
        "id": "xA470VEERNDl",
        "outputId": "0664fb6c-6420-4a07-f83b-9f80488d0b77"
      },
      "execution_count": 39,
      "outputs": [
        {
          "output_type": "stream",
          "name": "stdout",
          "text": [
            "enter your name and age:anagha 21\n",
            "anagha\n",
            "21\n"
          ]
        }
      ]
    },
    {
      "cell_type": "code",
      "source": [
        "p=float(input(\"enter principal:\"))\n",
        "r=float(input(\"enter rate:\"))\n",
        "t=float(input(\"enter time:\"))\n",
        "si=(p*r*t)/100\n",
        "print(\"simple interest:\",si)"
      ],
      "metadata": {
        "colab": {
          "base_uri": "https://localhost:8080/"
        },
        "id": "8BHHNL9IRwC3",
        "outputId": "45342eba-ee94-427a-8a7f-cc932402e60a"
      },
      "execution_count": 40,
      "outputs": [
        {
          "output_type": "stream",
          "name": "stdout",
          "text": [
            "enter principal:2133\n",
            "enter rate:12\n",
            "enter time:21\n",
            "simple interest: 5375.16\n"
          ]
        }
      ]
    },
    {
      "cell_type": "code",
      "source": [
        "length = float(input(\"Enter the length of the rectangle: \"))\n",
        "width = float(input(\"Enter the width of the rectangle: \"))\n",
        "area = length * width\n",
        "print(\"The area of the rectangle is:\", area)"
      ],
      "metadata": {
        "colab": {
          "base_uri": "https://localhost:8080/"
        },
        "id": "fbnPXlVYSSJU",
        "outputId": "69684e12-64db-4b36-a137-60fbc96ffdef"
      },
      "execution_count": 41,
      "outputs": [
        {
          "output_type": "stream",
          "name": "stdout",
          "text": [
            "Enter the length of the rectangle: 12\n",
            "Enter the width of the rectangle: 10\n",
            "The area of the rectangle is: 120.0\n"
          ]
        }
      ]
    },
    {
      "cell_type": "code",
      "source": [
        "km = float(input(\"Enter the distance in kilometers: \"))\n",
        "miles = km * 0.621371\n",
        "print(\"The distance in miles is:\", miles)"
      ],
      "metadata": {
        "colab": {
          "base_uri": "https://localhost:8080/"
        },
        "id": "N68gvk5XSoUf",
        "outputId": "e82ffd50-9423-4a03-a50c-abeaec8574bc"
      },
      "execution_count": 42,
      "outputs": [
        {
          "output_type": "stream",
          "name": "stdout",
          "text": [
            "Enter the distance in kilometers: 35\n",
            "The distance in miles is: 21.747985\n"
          ]
        }
      ]
    },
    {
      "cell_type": "code",
      "source": [
        "char = input(\"Enter a character: \")\n",
        "print(\"The ASCII value of\", char, \"is\", ord(char))"
      ],
      "metadata": {
        "colab": {
          "base_uri": "https://localhost:8080/"
        },
        "id": "YPjEI3RlS-KF",
        "outputId": "3005b141-8373-41f0-c259-401ae5a99a0c"
      },
      "execution_count": 43,
      "outputs": [
        {
          "output_type": "stream",
          "name": "stdout",
          "text": [
            "Enter a character: a\n",
            "The ASCII value of a is 97\n"
          ]
        }
      ]
    },
    {
      "cell_type": "code",
      "source": [
        "num = int(input(\"Enter a number: \"))\n",
        "if num % 2 == 0:\n",
        "  print(num, \"is an even number.\")\n",
        "else:\n",
        "  print(num, \"is an odd number.\")"
      ],
      "metadata": {
        "id": "v4HlXRQmVOPd",
        "colab": {
          "base_uri": "https://localhost:8080/"
        },
        "outputId": "09e50618-cebf-44cf-d8d5-434b3d58713d"
      },
      "execution_count": 44,
      "outputs": [
        {
          "output_type": "stream",
          "name": "stdout",
          "text": [
            "Enter a number: 34\n",
            "34 is an even number.\n"
          ]
        }
      ]
    },
    {
      "cell_type": "code",
      "source": [
        "year = int(input(\"Enter a year: \"))\n",
        "if (year % 4 == 0 and year % 100 != 0) or (year % 400 == 0):\n",
        "  print(year, \"is a leap year.\")\n",
        "else:\n",
        "  print(year, \"is not a leap year.\")\n"
      ],
      "metadata": {
        "id": "xfsXsse8dcGo",
        "colab": {
          "base_uri": "https://localhost:8080/"
        },
        "outputId": "0e201091-dfc6-476a-aa48-dd5fd34e30a3"
      },
      "execution_count": 46,
      "outputs": [
        {
          "output_type": "stream",
          "name": "stdout",
          "text": [
            "Enter a year: 2004\n",
            "2004 is a leap year.\n"
          ]
        }
      ]
    },
    {
      "cell_type": "code",
      "source": [
        "n=int(input(\"enter a number:\"))\n",
        "for i in range(1,11):\n",
        "  print(n,\"*\",i ,\"=\",n*i)"
      ],
      "metadata": {
        "colab": {
          "base_uri": "https://localhost:8080/"
        },
        "id": "P_8ptXSDhMWH",
        "outputId": "a4c80950-7d4d-4913-f366-2442971ecb0b"
      },
      "execution_count": 57,
      "outputs": [
        {
          "output_type": "stream",
          "name": "stdout",
          "text": [
            "enter a number:4\n",
            "4 * 1 = 4\n",
            "4 * 2 = 8\n",
            "4 * 3 = 12\n",
            "4 * 4 = 16\n",
            "4 * 5 = 20\n",
            "4 * 6 = 24\n",
            "4 * 7 = 28\n",
            "4 * 8 = 32\n",
            "4 * 9 = 36\n",
            "4 * 10 = 40\n"
          ]
        }
      ]
    },
    {
      "cell_type": "code",
      "source": [
        "n=int(input(\"enter a number:\"))\n",
        "sum_of_n = 0\n",
        "for i in range(1, n+1):\n",
        "  sum_of_n += i\n",
        "print(\"The sum of the first\", n, \"natural numbers is\", sum_of_n)"
      ],
      "metadata": {
        "colab": {
          "base_uri": "https://localhost:8080/"
        },
        "id": "ALCsodjwi5a3",
        "outputId": "98de8877-50a4-47b1-cd42-a1318e2120c5"
      },
      "execution_count": 58,
      "outputs": [
        {
          "output_type": "stream",
          "name": "stdout",
          "text": [
            "enter a number:20\n",
            "The sum of the first 20 natural numbers is 210\n"
          ]
        }
      ]
    },
    {
      "cell_type": "code",
      "source": [
        "def factorial(n):\n",
        "  if n == 0:\n",
        "    return 1\n",
        "  else:\n",
        "    return n * factorial(n-1)\n",
        "\n",
        "num = int(input(\"Enter a integer: \"))\n",
        "if num < 0:\n",
        "  print(\"invalid input\")\n",
        "else:\n",
        "  print(\"The factorial of\", num, \"is\", factorial(num))\n"
      ],
      "metadata": {
        "colab": {
          "base_uri": "https://localhost:8080/"
        },
        "id": "0oEUytWdkPpG",
        "outputId": "5255fa40-19e3-4733-e835-69b243f3f10d"
      },
      "execution_count": 61,
      "outputs": [
        {
          "output_type": "stream",
          "name": "stdout",
          "text": [
            "Enter a integer: 21\n",
            "The factorial of 21 is 51090942171709440000\n"
          ]
        }
      ]
    },
    {
      "cell_type": "code",
      "source": [],
      "metadata": {
        "id": "MsExHiLNmLrL"
      },
      "execution_count": null,
      "outputs": []
    },
    {
      "cell_type": "code",
      "source": [
        "n = int(input(\"Enter a number: \"))\n",
        "if n > 1:\n",
        "   for i in range(2, n):\n",
        "       if (n % i) == 0:\n",
        "           print(n, \"is not a prime number\")\n",
        "           break\n",
        "   else:\n",
        "       print(n, \"is a prime number\")\n",
        "else:\n",
        "   print(n, \"is not a prime number\")"
      ],
      "metadata": {
        "id": "7jmdOLDKkKgW",
        "colab": {
          "base_uri": "https://localhost:8080/"
        },
        "outputId": "3b2b154c-9ca6-49fc-b018-1fcab9a5794b"
      },
      "execution_count": 62,
      "outputs": [
        {
          "output_type": "stream",
          "name": "stdout",
          "text": [
            "Enter a number: 13\n",
            "13 is a prime number\n"
          ]
        }
      ]
    }
  ]
}